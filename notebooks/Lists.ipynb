{
 "cells": [
  {
   "cell_type": "markdown",
   "id": "39ac22c4",
   "metadata": {},
   "source": [
    "# Listy\n"
   ]
  },
  {
   "cell_type": "markdown",
   "id": "939b75dc",
   "metadata": {},
   "source": [
    "Deklarowanie i wypisywanie list"
   ]
  },
  {
   "cell_type": "code",
   "execution_count": 87,
   "id": "6f88b5ed",
   "metadata": {},
   "outputs": [
    {
     "name": "stdout",
     "output_type": "stream",
     "text": [
      "list4: [1, '2', False]\n",
      "list5:\n",
      "True\n",
      "True\n",
      "True\n",
      "{1, 2}\n"
     ]
    }
   ],
   "source": [
    "list1: list = []\n",
    "list2: list[int] = [1, 2, 3]\n",
    "list3: list[str] = [\"1\", \"2\", \"3\"]\n",
    "list4: list = [1, \"2\", False]\n",
    "list5 = [True for _ in range(3)]\n",
    "\n",
    "print(f\"list4: {list4}\")\n",
    "\n",
    "print(\"list5:\")\n",
    "for element in list5:\n",
    "    print(element)\n",
    "\n",
    "test_set = set()\n",
    "test_set.add(1)\n",
    "test_set.add(2)\n",
    "test_set.add(1)\n",
    "print(test_set)"
   ]
  },
  {
   "cell_type": "markdown",
   "id": "0afc310e",
   "metadata": {},
   "source": [
    "Metody list"
   ]
  },
  {
   "cell_type": "code",
   "execution_count": 88,
   "id": "ca38fe2f",
   "metadata": {},
   "outputs": [
    {
     "name": "stdout",
     "output_type": "stream",
     "text": [
      "append: [5]\n",
      "append: [5, [1, 2, 3]]\n"
     ]
    }
   ],
   "source": [
    "test_list = []\n",
    "test_list.append(5)\n",
    "print(f\"append: {test_list}\")\n",
    "\n",
    "test_list.append([1, 2, 3])\n",
    "print(f\"append: {test_list}\")"
   ]
  },
  {
   "cell_type": "code",
   "execution_count": 71,
   "id": "c397575c",
   "metadata": {},
   "outputs": [
    {
     "name": "stdout",
     "output_type": "stream",
     "text": [
      "count 1s: 2\n"
     ]
    }
   ],
   "source": [
    "\n",
    "# count() – count occurrences of specified argument\n",
    "test_list = [1, 2, 1, 2]\n",
    "count = test_list.count(1)\n",
    "print(f\"count 1s: {count}\")"
   ]
  },
  {
   "cell_type": "code",
   "execution_count": 72,
   "id": "91a63e5e",
   "metadata": {},
   "outputs": [
    {
     "name": "stdout",
     "output_type": "stream",
     "text": [
      "before clear: [1, 2, 3, 4, 5]\n",
      "after clear: []\n"
     ]
    }
   ],
   "source": [
    "# clear() – removes all elements from the list\n",
    "test_list = [1, 2, 3, 4, 5]\n",
    "print(f\"before clear: {test_list}\")\n",
    "test_list.clear()\n",
    "print(f\"after clear: {test_list}\")"
   ]
  },
  {
   "cell_type": "code",
   "execution_count": null,
   "id": "c6b28181",
   "metadata": {},
   "outputs": [
    {
     "name": "stdout",
     "output_type": "stream",
     "text": [
      "copy: [1, 2, 3, 4]\n"
     ]
    }
   ],
   "source": [
    "\n",
    "# copy() – creates a shallow copy of the list\n",
    "test_list = [1, 2, 3, 4]\n",
    "copied_list = test_list.copy()\n",
    "print(f\"copy: {copied_list}\")"
   ]
  },
  {
   "cell_type": "code",
   "execution_count": 74,
   "id": "314139a0",
   "metadata": {},
   "outputs": [
    {
     "name": "stdout",
     "output_type": "stream",
     "text": [
      "extend: [1, 2, 3, 4, 5, 6]\n"
     ]
    }
   ],
   "source": [
    "# extend() – adds all elements from another iterable to the end\n",
    "test_list = [1, 2, 3]\n",
    "test_list.extend([4, 5, 6])\n",
    "print(f\"extend: {test_list}\")"
   ]
  },
  {
   "cell_type": "code",
   "execution_count": null,
   "id": "7108f9d3",
   "metadata": {},
   "outputs": [
    {
     "name": "stdout",
     "output_type": "stream",
     "text": [
      "index of 30: 2\n"
     ]
    }
   ],
   "source": [
    "# index() – returns the index of the first occurrence of a value\n",
    "test_list = [10, 20, 30, 40, 30]\n",
    "index_of_30 = test_list.index(30)\n",
    "print(f\"index of 30: {index_of_30}\")"
   ]
  },
  {
   "cell_type": "code",
   "execution_count": null,
   "id": "035ef8bf",
   "metadata": {},
   "outputs": [
    {
     "name": "stdout",
     "output_type": "stream",
     "text": [
      "after insert 3 at index 2: [1, 2, 3, 4, 5]\n"
     ]
    }
   ],
   "source": [
    "# insert() – inserts an element at a specific position\n",
    "test_list = [1, 2, 4, 5]\n",
    "test_list.insert(2, 3)\n",
    "print(f\"after insert 3 at index 2: {test_list}\")"
   ]
  },
  {
   "cell_type": "code",
   "execution_count": 92,
   "id": "4b933a16",
   "metadata": {},
   "outputs": [
    {
     "name": "stdout",
     "output_type": "stream",
     "text": [
      "popped element: 5, remaining: [1, 2, 3, 4]\n",
      "popped at index 1: 2, remaining: [1, 3, 4]\n"
     ]
    }
   ],
   "source": [
    "# pop() – removes and returns element at given index (default: last)\n",
    "test_list = [1, 2, 3, 4, 5]\n",
    "popped = test_list.pop()\n",
    "print(f\"popped element: {popped}, remaining: {test_list}\")\n",
    "popped = test_list.pop(1)\n",
    "print(f\"popped at index 1: {popped}, remaining: {test_list}\")"
   ]
  },
  {
   "cell_type": "code",
   "execution_count": 78,
   "id": "92db5fe4",
   "metadata": {},
   "outputs": [
    {
     "name": "stdout",
     "output_type": "stream",
     "text": [
      "after remove 2: [1, 3, 2, 4]\n"
     ]
    }
   ],
   "source": [
    "# remove() – removes the first occurrence of a value\n",
    "test_list = [1, 2, 3, 2, 4]\n",
    "test_list.remove(2)\n",
    "print(f\"after remove 2: {test_list}\")"
   ]
  },
  {
   "cell_type": "code",
   "execution_count": 79,
   "id": "6b113967",
   "metadata": {},
   "outputs": [
    {
     "name": "stdout",
     "output_type": "stream",
     "text": [
      "after reverse: [5, 4, 3, 2, 1]\n"
     ]
    }
   ],
   "source": [
    "# reverse() – reverses the list in place\n",
    "test_list = [1, 2, 3, 4, 5]\n",
    "test_list.reverse()\n",
    "print(f\"after reverse: {test_list}\")\n"
   ]
  },
  {
   "cell_type": "markdown",
   "id": "6575478f",
   "metadata": {},
   "source": [
    "Matryce\n",
    "\n",
    "$A = \\begin{pmatrix}\n",
    "1 & 0 \\\\\n",
    "0 & 1\n",
    "\\end{pmatrix}$\n",
    "\n",
    "$A = \\begin{bmatrix}\n",
    "1 & 0 \\\\\n",
    "0 & 1\n",
    "\\end{bmatrix}$"
   ]
  },
  {
   "cell_type": "code",
   "execution_count": null,
   "id": "f796b841",
   "metadata": {},
   "outputs": [
    {
     "name": "stdout",
     "output_type": "stream",
     "text": [
      "1\n",
      "0\n",
      "1\n",
      "1\n",
      "1\n",
      "0\n"
     ]
    }
   ],
   "source": [
    "matrix = [\n",
    "    [1, 0, 1],\n",
    "    [1, 1, 0]\n",
    "]\n",
    "\n",
    "for i in range(len(matrix)):\n",
    "    for j in range(len(matrix[i])):\n",
    "        print(matrix[i][j])\n",
    "\n",
    "assert matrix[0][1] == 0"
   ]
  },
  {
   "cell_type": "markdown",
   "id": "66ba6914",
   "metadata": {},
   "source": [
    "\n",
    "###### `map()`"
   ]
  },
  {
   "cell_type": "code",
   "execution_count": 81,
   "id": "8e9c5ce4",
   "metadata": {},
   "outputs": [
    {
     "name": "stdout",
     "output_type": "stream",
     "text": [
      "\n",
      "original words: ['hello', 'world', 'python']\n",
      "after map (uppercase): ['HELLO', 'WORLD', 'PYTHON']\n"
     ]
    }
   ],
   "source": [
    "# map() – applies a function to all items in an iterable and returns a map object\n",
    "\n",
    "# Convert strings to uppercase\n",
    "words = [\"hello\", \"world\", \"python\"]\n",
    "print(f\"\\noriginal words: {words}\")\n",
    "uppercase = list(map(str.upper, words))\n",
    "print(f\"after map (uppercase): {uppercase}\")"
   ]
  },
  {
   "cell_type": "code",
   "execution_count": null,
   "id": "861703d2",
   "metadata": {},
   "outputs": [
    {
     "name": "stdout",
     "output_type": "stream",
     "text": [
      "\n",
      "original numbers: [1, 2, 3, 4]\n",
      "after map (squared): [1, 4, 9, 16]\n"
     ]
    }
   ],
   "source": [
    "# Apply custom function\n",
    "def square(x):\n",
    "    return x ** 2\n",
    "\n",
    "numbers = [1, 2, 3, 4]\n",
    "print(f\"\\noriginal numbers: {numbers}\")\n",
    "squared = list(map(square, numbers))\n",
    "print(f\"after map (squared): {squared}\")"
   ]
  },
  {
   "cell_type": "code",
   "execution_count": null,
   "id": "b5358f94",
   "metadata": {},
   "outputs": [
    {
     "name": "stdout",
     "output_type": "stream",
     "text": [
      "original numbers: [1, 2, 3, 4, 5]\n",
      "after map (doubled): [2, 4, 6, 8, 10]\n"
     ]
    }
   ],
   "source": [
    "# Apply lambda\n",
    "numbers = [1, 2, 3, 4, 5]\n",
    "print(f\"original numbers: {numbers}\")\n",
    "doubled = list(map(lambda x: x * 2, numbers))\n",
    "print(f\"after map (doubled): {doubled}\")"
   ]
  }
 ],
 "metadata": {
  "kernelspec": {
   "display_name": "Python 3",
   "language": "python",
   "name": "python3"
  },
  "language_info": {
   "codemirror_mode": {
    "name": "ipython",
    "version": 3
   },
   "file_extension": ".py",
   "mimetype": "text/x-python",
   "name": "python",
   "nbconvert_exporter": "python",
   "pygments_lexer": "ipython3",
   "version": "3.11.2"
  }
 },
 "nbformat": 4,
 "nbformat_minor": 5
}
